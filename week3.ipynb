{
 "metadata": {
  "name": ""
 },
 "nbformat": 3,
 "nbformat_minor": 0,
 "worksheets": [
  {
   "cells": [
    {
     "cell_type": "code",
     "collapsed": false,
     "input": [
      "import numpy as np\n",
      "data = np.array([map(float, l.split()) for l in open('data_housing.txt')])\n",
      "y = data[:,-1]\n",
      "print 'Data points', len(y)\n",
      "print y.T"
     ],
     "language": "python",
     "metadata": {},
     "outputs": [
      {
       "output_type": "stream",
       "stream": "stdout",
       "text": [
        "Data points 28\n",
        "[ 25.9  29.5  27.9  25.9  29.9  29.9  30.9  28.9  84.9  82.9  35.9  31.5\n",
        "  31.   30.9  30.   28.9  36.9  41.9  40.5  43.9  37.5  37.9  44.5  37.9\n",
        "  38.9  36.9  45.8  41. ]\n"
       ]
      }
     ],
     "prompt_number": 1
    },
    {
     "cell_type": "code",
     "collapsed": false,
     "input": [
      "# First define some handy shortcuts \n",
      "dot = np.dot\n",
      "inv = np.linalg.inv\n",
      "# Dummy features\n",
      "X = np.ones((28,1))\n",
      "# Fitting the parameters: theta = (X'*X)^-1*X'*y\n",
      "theta = dot(dot(inv(dot(X.T, X)), X.T), y)\n",
      "print theta"
     ],
     "language": "python",
     "metadata": {},
     "outputs": [
      {
       "output_type": "stream",
       "stream": "stdout",
       "text": [
        "[ 38.15714286]\n"
       ]
      }
     ],
     "prompt_number": 3
    },
    {
     "cell_type": "code",
     "collapsed": false,
     "input": [
      "# MSE = (1/N)*sum((y-X*theta)^2) \n",
      "print sum((y-dot(X, theta))**2) / len(y)"
     ],
     "language": "python",
     "metadata": {},
     "outputs": [
      {
       "output_type": "stream",
       "stream": "stdout",
       "text": [
        "193.256734694\n"
       ]
      }
     ],
     "prompt_number": 4
    },
    {
     "cell_type": "code",
     "collapsed": false,
     "input": [
      "!head -n 33 data_houses/x26.txt|tail -n 13"
     ],
     "language": "python",
     "metadata": {},
     "outputs": [
      {
       "output_type": "stream",
       "stream": "stdout",
       "text": [
        "#      I,   the index;\r\n",
        "#      A1,  the local selling prices, in hundreds of dollars;\r\n",
        "#      A2,  the number of bathrooms;\r\n",
        "#      A3,  the area of the site in thousands of square feet;\r\n",
        "#      A4,  the size of the living space in thousands of square feet;\r\n",
        "#      A5,  the number of garages;\r\n",
        "#      A6,  the number of rooms;\r\n",
        "#      A7,  the number of bedrooms;\r\n",
        "#      A8,  the age in years;\r\n",
        "#      A9,  1 = brick, 2 = brick/wood, 3 = aluminum/wood, 4 = wood.\r\n",
        "#      A10, 1 = two story, 2 = split level, 3 = ranch\r\n",
        "#      A11, number of fire places.\r\n",
        "#      B,   the selling price.\r\n"
       ]
      }
     ],
     "prompt_number": 2
    },
    {
     "cell_type": "code",
     "collapsed": false,
     "input": [
      "# Let's add a continuous variable, like the area of the house\n",
      "X = np.hstack((X, data[:,2].reshape(len(y),1)))\n",
      "print X.shape"
     ],
     "language": "python",
     "metadata": {},
     "outputs": [
      {
       "output_type": "stream",
       "stream": "stdout",
       "text": [
        "(28, 2)\n"
       ]
      }
     ],
     "prompt_number": 5
    },
    {
     "cell_type": "code",
     "collapsed": false,
     "input": [
      "from scipy.linalg import lstsq\n",
      "theta = lstsq(X,y)[0]\n",
      "print sum((y-dot(X, theta))**2) / len(y)"
     ],
     "language": "python",
     "metadata": {},
     "outputs": [
      {
       "output_type": "stream",
       "stream": "stdout",
       "text": [
        "107.387964132\n"
       ]
      }
     ],
     "prompt_number": 6
    },
    {
     "cell_type": "code",
     "collapsed": false,
     "input": [
      "# Let's add the number of garages as anoher variable\n",
      "X = np.hstack((X, data[:,4].reshape(len(y),1)))\n",
      "theta = lstsq(X,y)[0]\n",
      "print sum((y-dot(X, theta))**2) / len(y)"
     ],
     "language": "python",
     "metadata": {},
     "outputs": [
      {
       "output_type": "stream",
       "stream": "stdout",
       "text": [
        "83.6998330565\n"
       ]
      }
     ],
     "prompt_number": 7
    },
    {
     "cell_type": "code",
     "collapsed": false,
     "input": [
      "#To add a categorical variable, like \"construction type\" we have to decide how to represent it. Two options: \n",
      "# 1) Giving a value to every category choice (1, 2, 3, ...).\n",
      "# 2) Using an indicator vector, with a zero for each dimension, except for the active that is one.\n",
      "X1 = np.hstack((X, data[:,8].reshape(len(y),1)))\n",
      "ind = np.zeros((len(y), max(data[:,8])))\n",
      "ind[range(0,len(y)), data[:,8].astype(np.int32)-1]=1\n",
      "X2 = np.hstack((X, ind))\n",
      "print 'Representation 1,2,3,4,...', '\\n', X1\n",
      "print 'Representation [0,1,0,0]', '\\n', X2"
     ],
     "language": "python",
     "metadata": {},
     "outputs": [
      {
       "output_type": "stream",
       "stream": "stdout",
       "text": [
        "Representation 1,2,3,4,... \n",
        "[[  1.       3.472    1.       3.    ]\n",
        " [  1.       3.531    2.       1.    ]\n",
        " [  1.       2.275    1.       2.    ]\n",
        " [  1.       4.05     1.       4.    ]\n",
        " [  1.       4.455    1.       3.    ]\n",
        " [  1.       4.455    1.       2.    ]\n",
        " [  1.       5.85     1.       2.    ]\n",
        " [  1.       9.52     0.       1.    ]\n",
        " [  1.       9.8      2.       2.    ]\n",
        " [  1.      12.8      2.       4.    ]\n",
        " [  1.       6.435    2.       1.    ]\n",
        " [  1.       4.9883   1.       1.    ]\n",
        " [  1.       5.52     1.       1.    ]\n",
        " [  1.       6.666    2.       2.    ]\n",
        " [  1.       5.       0.       4.    ]\n",
        " [  1.       9.52     0.       1.    ]\n",
        " [  1.       5.15     2.       4.    ]\n",
        " [  1.       6.902    1.5      1.    ]\n",
        " [  1.       7.102    1.       2.    ]\n",
        " [  1.       7.8      1.5      3.    ]\n",
        " [  1.       5.52     2.       4.    ]\n",
        " [  1.       4.       1.       1.    ]\n",
        " [  1.       9.89     2.       1.    ]\n",
        " [  1.       6.7265   1.       4.    ]\n",
        " [  1.       9.15     2.       1.    ]\n",
        " [  1.       8.       2.       1.    ]\n",
        " [  1.       7.3262   1.5      4.    ]\n",
        " [  1.       5.       2.       3.    ]]\n",
        "Representation [0,1,0,0] \n",
        "[[  1.       3.472    1.       0.       0.       1.       0.    ]\n",
        " [  1.       3.531    2.       1.       0.       0.       0.    ]\n",
        " [  1.       2.275    1.       0.       1.       0.       0.    ]\n",
        " [  1.       4.05     1.       0.       0.       0.       1.    ]\n",
        " [  1.       4.455    1.       0.       0.       1.       0.    ]\n",
        " [  1.       4.455    1.       0.       1.       0.       0.    ]\n",
        " [  1.       5.85     1.       0.       1.       0.       0.    ]\n",
        " [  1.       9.52     0.       1.       0.       0.       0.    ]\n",
        " [  1.       9.8      2.       0.       1.       0.       0.    ]\n",
        " [  1.      12.8      2.       0.       0.       0.       1.    ]\n",
        " [  1.       6.435    2.       1.       0.       0.       0.    ]\n",
        " [  1.       4.9883   1.       1.       0.       0.       0.    ]\n",
        " [  1.       5.52     1.       1.       0.       0.       0.    ]\n",
        " [  1.       6.666    2.       0.       1.       0.       0.    ]\n",
        " [  1.       5.       0.       0.       0.       0.       1.    ]\n",
        " [  1.       9.52     0.       1.       0.       0.       0.    ]\n",
        " [  1.       5.15     2.       0.       0.       0.       1.    ]\n",
        " [  1.       6.902    1.5      1.       0.       0.       0.    ]\n",
        " [  1.       7.102    1.       0.       1.       0.       0.    ]\n",
        " [  1.       7.8      1.5      0.       0.       1.       0.    ]\n",
        " [  1.       5.52     2.       0.       0.       0.       1.    ]\n",
        " [  1.       4.       1.       1.       0.       0.       0.    ]\n",
        " [  1.       9.89     2.       1.       0.       0.       0.    ]\n",
        " [  1.       6.7265   1.       0.       0.       0.       1.    ]\n",
        " [  1.       9.15     2.       1.       0.       0.       0.    ]\n",
        " [  1.       8.       2.       1.       0.       0.       0.    ]\n",
        " [  1.       7.3262   1.5      0.       0.       0.       1.    ]\n",
        " [  1.       5.       2.       0.       0.       1.       0.    ]]\n"
       ]
      }
     ],
     "prompt_number": 8
    },
    {
     "cell_type": "code",
     "collapsed": false,
     "input": [
      "theta = lstsq(X1,y)[0]\n",
      "print 'Representation 1,2,3,...', sum((y-dot(X1, theta))**2) / len(y)\n",
      "theta = lstsq(X2,y)[0]\n",
      "print 'Representation [0,1,0,0]', sum((y-dot(X2, theta))**2) / len(y)\n",
      "# Just one word of caution with indicator vectors: if we use more dimensions \n",
      "# than we should, we may end up with a low-rank matrix that we can't invert!"
     ],
     "language": "python",
     "metadata": {},
     "outputs": [
      {
       "output_type": "stream",
       "stream": "stdout",
       "text": [
        "Representation 1,2,3,... 73.5050669967\n",
        "Representation [0,1,0,0] 66.4356761119\n"
       ]
      }
     ],
     "prompt_number": 9
    },
    {
     "cell_type": "code",
     "collapsed": false,
     "input": [
      "print 'Back to the slides...'"
     ],
     "language": "python",
     "metadata": {},
     "outputs": []
    },
    {
     "cell_type": "code",
     "collapsed": false,
     "input": [
      "R = np.hstack((np.ones((len(y),1)), np.random.random((len(y), 30))))\n",
      "theta = lstsq(R,y)[0]\n",
      "print 'Random', sum((y-dot(R, theta))**2) / len(y)"
     ],
     "language": "python",
     "metadata": {},
     "outputs": [
      {
       "output_type": "stream",
       "stream": "stdout",
       "text": [
        "Random 6.16014719222e-26\n"
       ]
      }
     ],
     "prompt_number": 12
    },
    {
     "cell_type": "code",
     "collapsed": false,
     "input": [],
     "language": "python",
     "metadata": {},
     "outputs": []
    }
   ],
   "metadata": {}
  }
 ]
}